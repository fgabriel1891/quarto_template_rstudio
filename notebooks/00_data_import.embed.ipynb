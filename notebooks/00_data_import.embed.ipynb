{
 "cells": [
  {
   "cell_type": "markdown",
   "metadata": {},
   "source": [
    "# Importing Data\n",
    "\n",
    "# Dependencies"
   ],
   "id": "d3893979-b7b7-488d-868c-c47fa57e9276"
  },
  {
   "cell_type": "code",
   "execution_count": null,
   "metadata": {},
   "outputs": [],
   "source": [
    "library(tidyverse) # for data manipulation \n",
    "library(sf) # for simple feature manipulation \n",
    "library(vegan) # ecological analyses \n",
    "library(cassandRa) # latent network analyses "
   ],
   "id": "e14a346e-775c-40af-b480-29f79440136d"
  },
  {
   "cell_type": "markdown",
   "metadata": {},
   "source": [
    "# Species distribution data"
   ],
   "id": "41b1dddd-69bc-42e0-a42f-f00bb3cb5319"
  },
  {
   "cell_type": "code",
   "execution_count": null,
   "metadata": {},
   "outputs": [],
   "source": [
    "# load data directory\n",
    "palm_all_files <- list.files(\"00_Data/00_species_distribution/Palm-distribution-ranges/Shapefiles/\", full.names = T)\n",
    "# get  shp files\n",
    "palm_shp_files <- palm_all_files[str_detect(palm_all_files, \".shp\")]\n",
    "# filter xml out\n",
    "palm_shp_files <- palm_shp_files[!str_detect(palm_shp_files, \".xml\")]\n",
    "\n",
    "# get map of biogeographic dominions on the Neotropics \n",
    "\n",
    "neotropics <- st_read('00_Data/03_Landscape/Morrone_Neotropics/Lowenberg_Neto_2014.shp')\n",
    "\n",
    "grid <- st_make_grid(neotropics, cellsize = c(1, 1), what = \"polygons\", \n",
    "                     crs = sf::st_crs(st_read(palm_shp_files[1])))\n",
    "# Convert the grid to a simple feature collection\n",
    "grid <- st_sf(grid)\n",
    "\n",
    "# get grid level assemblages for palms and mammals\n",
    "\n",
    "palm_grids <- readRDS(\"00_Data/00_species_distribution/gridded_palm_data.RDS\")\n",
    "mammal_grids <- readRDS(\"00_Data/00_species_distribution/gridded_mammal_data.RDS\")"
   ],
   "id": "a6ecdec9-ec4b-4a59-b3cc-c54514f3de7d"
  },
  {
   "cell_type": "markdown",
   "metadata": {},
   "source": [
    "# Species traits data"
   ],
   "id": "dfa24944-aabc-4bfd-b6d4-4f1640a1e928"
  },
  {
   "cell_type": "code",
   "execution_count": null,
   "metadata": {},
   "outputs": [],
   "source": [
    "# get trait data for the Neotropics \n",
    "\n",
    "palm_traits <- read.csv('00_Data/01_species_traits/final_palm_trait.csv')\n",
    "mammal_traits <- read.csv('00_Data/01_species_traits/final_mammal_trait.csv')"
   ],
   "id": "7278a669-1d78-44ef-9f51-3131d5ebbf26"
  },
  {
   "cell_type": "markdown",
   "metadata": {},
   "source": [
    "# Species interaction data"
   ],
   "id": "f400ccc0-697b-40c4-94ab-387ba4bdf8e4"
  },
  {
   "cell_type": "code",
   "execution_count": null,
   "metadata": {},
   "outputs": [],
   "source": [
    "# get available interaction data for the Neotropics \n",
    "\n",
    "int_data <- readRDS('00_Data/02_species_interactions/final_int_data.RDS')\n",
    "palm_trait_data <- palm_trait_data[complete.cases(palm_trait_data),]\n",
    "mammal_trait_data <- mammal_trait_data[complete.cases(mammal_trait_data),]\n",
    "\n",
    "# filter to match species between databasees\n",
    "int_data <- int_data %>% \n",
    "  filter(int_data$PALM %in% palm_trait_data$SpecName,\n",
    "         int_data$FRUGIVORE %in% mammal_trait_data$Scientific)\n",
    "\n",
    "# make binary matrix\n",
    "\n",
    "N <- int_data %>% \n",
    "  xtabs(~PALM + FRUGIVORE, .)\n",
    "\n",
    "N[N>1] <- 1"
   ],
   "id": "31aba06b-bac8-42fb-8370-17932e1a3ce0"
  },
  {
   "cell_type": "markdown",
   "metadata": {},
   "source": [
    "Filtering species trait data for which we have also interaction records"
   ],
   "id": "00269e44-c99c-4a44-8ea5-7252f55ceb24"
  },
  {
   "cell_type": "code",
   "execution_count": null,
   "metadata": {},
   "outputs": [],
   "source": [
    "palm_trait_data <- palm_trait_data %>% \n",
    "  filter(palm_trait_data$SpecName %in% int_data$PALM )\n",
    "\n",
    "\n",
    "mammal_trait_data <- mammal_trait_data %>% \n",
    "  filter(mammal_trait_data$Scientific %in% int_data$FRUGIVORE )"
   ],
   "id": "2ae03b39-302d-4e3e-bc5d-036871a5c78b"
  },
  {
   "cell_type": "markdown",
   "metadata": {},
   "source": [
    "Observe data imbalance"
   ],
   "id": "fd5c1ca8-b859-4121-ac37-c7f85184b2d7"
  },
  {
   "cell_type": "code",
   "execution_count": null,
   "metadata": {},
   "outputs": [],
   "source": [
    "c(\n",
    "  'traits palms' = palm_trait_data$SpecName %>% unique() %>% length(),\n",
    "  'traits mammals' = mammal_trait_data$Scientific %>% unique() %>% length(),\n",
    "  'interaction palms' = int_data$PALM %>% unique() %>% length(),\n",
    "  'interaction mammals' = int_data$FRUGIVORE %>% unique() %>% length()\n",
    ") %>% barplot(log = 'y',\n",
    "              ylab = 'log (species count)',\n",
    "              col = c('green', 'firebrick', 'green', 'firebrick'))"
   ],
   "id": "875bf2ca-dec2-4c2f-80ff-05e38d90a290"
  }
 ],
 "nbformat": 4,
 "nbformat_minor": 5,
 "metadata": {}
}
