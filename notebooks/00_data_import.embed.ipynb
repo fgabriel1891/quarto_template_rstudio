{
 "cells": [
  {
   "cell_type": "markdown",
   "metadata": {},
   "source": [
    "# Importing Data\n",
    "\n",
    "# Dependencies"
   ],
   "id": "8e734cc5-c0e3-483f-99d3-f54419b70ff5"
  },
  {
   "cell_type": "code",
   "execution_count": null,
   "metadata": {},
   "outputs": [],
   "source": [
    "library(tidyverse) # for data manipulation \n",
    "library(sf) # for simple feature manipulation \n",
    "library(vegan) # ecological analyses \n",
    "library(cassandRa) # latent network analyses "
   ],
   "id": "10a17b30-5ce3-495b-bb19-ab876a05b02a"
  },
  {
   "cell_type": "markdown",
   "metadata": {},
   "source": [
    "# Species distribution data"
   ],
   "id": "10cb299a-52cd-4bd9-9151-c40877b4504a"
  },
  {
   "cell_type": "code",
   "execution_count": null,
   "metadata": {},
   "outputs": [],
   "source": [
    "# load data directory\n",
    "palm_all_files <- list.files(\"00_Data/00_species_distribution/Palm-distribution-ranges/Shapefiles/\", full.names = T)\n",
    "# get  shp files\n",
    "palm_shp_files <- palm_all_files[str_detect(palm_all_files, \".shp\")]\n",
    "# filter xml out\n",
    "palm_shp_files <- palm_shp_files[!str_detect(palm_shp_files, \".xml\")]\n",
    "\n",
    "# get map of biogeographic dominions on the Neotropics \n",
    "\n",
    "neotropics <- st_read('00_Data/03_Landscape/Morrone_Neotropics/Lowenberg_Neto_2014.shp')\n",
    "\n",
    "grid <- st_make_grid(neotropics, cellsize = c(1, 1), what = \"polygons\", \n",
    "                     crs = sf::st_crs(st_read(palm_shp_files[1])))\n",
    "# Convert the grid to a simple feature collection\n",
    "grid <- st_sf(grid)\n",
    "\n",
    "# get grid level assemblages for palms and mammals\n",
    "\n",
    "palm_grids <- readRDS(\"00_Data/00_species_distribution/gridded_palm_data.RDS\")\n",
    "mammal_grids <- readRDS(\"00_Data/00_species_distribution/gridded_mammal_data.RDS\")"
   ],
   "id": "220e1925-7447-4a73-b43c-5293c2454dc3"
  },
  {
   "cell_type": "markdown",
   "metadata": {},
   "source": [
    "# Species traits data"
   ],
   "id": "a6d71a73-102e-4bd9-b270-d78dbd72c03a"
  },
  {
   "cell_type": "code",
   "execution_count": null,
   "metadata": {},
   "outputs": [],
   "source": [
    "# get trait data for the Neotropics \n",
    "\n",
    "palm_traits <- read.csv('00_Data/01_species_traits/final_palm_trait.csv')\n",
    "mammal_traits <- read.csv('00_Data/01_species_traits/final_mammal_trait.csv')"
   ],
   "id": "7322898d-1cb6-4902-b7fa-656153dc511e"
  },
  {
   "cell_type": "markdown",
   "metadata": {},
   "source": [
    "# Species interaction data"
   ],
   "id": "e69eaaea-a042-4c8b-97ce-496f630fdbea"
  },
  {
   "cell_type": "code",
   "execution_count": null,
   "metadata": {},
   "outputs": [],
   "source": [
    "# get available interaction data for the Neotropics \n",
    "\n",
    "int_data <- readRDS('00_Data/02_species_interactions/final_int_data.RDS')\n",
    "palm_trait_data <- palm_trait_data[complete.cases(palm_trait_data),]\n",
    "mammal_trait_data <- mammal_trait_data[complete.cases(mammal_trait_data),]\n",
    "\n",
    "# filter to match species between databasees\n",
    "int_data <- int_data %>% \n",
    "  filter(int_data$PALM %in% palm_trait_data$SpecName,\n",
    "         int_data$FRUGIVORE %in% mammal_trait_data$Scientific)\n",
    "\n",
    "# make binary matrix\n",
    "\n",
    "N <- int_data %>% \n",
    "  xtabs(~PALM + FRUGIVORE, .)\n",
    "\n",
    "N[N>1] <- 1"
   ],
   "id": "a4f1ca4e-54c3-4224-9153-3440505998c6"
  },
  {
   "cell_type": "markdown",
   "metadata": {},
   "source": [
    "Filtering species trait data for which we have also interaction records"
   ],
   "id": "8bb06994-eb30-49ca-abe7-a5f4327f6a4f"
  },
  {
   "cell_type": "code",
   "execution_count": null,
   "metadata": {},
   "outputs": [],
   "source": [
    "palm_trait_data <- palm_trait_data %>% \n",
    "  filter(palm_trait_data$SpecName %in% int_data$PALM )\n",
    "\n",
    "\n",
    "mammal_trait_data <- mammal_trait_data %>% \n",
    "  filter(mammal_trait_data$Scientific %in% int_data$FRUGIVORE )"
   ],
   "id": "6cb408a1-de4f-49a9-b99b-2e9d9a3e1b1d"
  },
  {
   "cell_type": "markdown",
   "metadata": {},
   "source": [
    "Observe data imbalance"
   ],
   "id": "a9d12162-4ae4-414f-a8ba-40be1969ebd6"
  },
  {
   "cell_type": "code",
   "execution_count": null,
   "metadata": {},
   "outputs": [],
   "source": [
    "c(\n",
    "  'traits palms' = palm_trait_data$SpecName %>% unique() %>% length(),\n",
    "  'traits mammals' = mammal_trait_data$Scientific %>% unique() %>% length(),\n",
    "  'interaction palms' = int_data$PALM %>% unique() %>% length(),\n",
    "  'interaction mammals' = int_data$FRUGIVORE %>% unique() %>% length()\n",
    ") %>% barplot(log = 'y',\n",
    "              ylab = 'log (species count)',\n",
    "              col = c('green', 'firebrick', 'green', 'firebrick'))"
   ],
   "id": "6f857a17-784a-4957-8e27-ef1dbf254be2"
  }
 ],
 "nbformat": 4,
 "nbformat_minor": 5,
 "metadata": {}
}
