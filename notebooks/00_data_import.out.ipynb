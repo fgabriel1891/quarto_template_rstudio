{
 "cells": [
  {
   "cell_type": "markdown",
   "metadata": {},
   "source": [
    "# Importing Data\n",
    "\n",
    "# Dependencies"
   ],
   "id": "afb8df0a-62bb-4754-8b49-4ff7eb510da7"
  },
  {
   "cell_type": "code",
   "execution_count": null,
   "metadata": {},
   "outputs": [],
   "source": [
    "library(tidyverse) # for data manipulation \n",
    "library(sf) # for simple feature manipulation \n",
    "library(vegan) # ecological analyses \n",
    "library(cassandRa) # latent network analyses \n"
   ],
   "id": "894f3d36-9182-436a-880e-f62823ac3d68"
  },
  {
   "cell_type": "markdown",
   "metadata": {},
   "source": [
    "# Species distribution data"
   ],
   "id": "792a3b24-3d02-4ab7-b44e-8f45edba7a63"
  },
  {
   "cell_type": "code",
   "execution_count": null,
   "metadata": {},
   "outputs": [],
   "source": [
    "# load data directory\n",
    "palm_all_files <- list.files(\"00_Data/00_species_distribution/Palm-distribution-ranges/Shapefiles/\", full.names = T)\n",
    "# get  shp files\n",
    "palm_shp_files <- palm_all_files[str_detect(palm_all_files, \".shp\")]\n",
    "# filter xml out\n",
    "palm_shp_files <- palm_shp_files[!str_detect(palm_shp_files, \".xml\")]\n",
    "\n",
    "# get map of biogeographic dominions on the Neotropics \n",
    "\n",
    "neotropics <- st_read('00_Data/03_Landscape/Morrone_Neotropics/Lowenberg_Neto_2014.shp')\n",
    "\n",
    "grid <- st_make_grid(neotropics, cellsize = c(1, 1), what = \"polygons\", \n",
    "                     crs = sf::st_crs(st_read(palm_shp_files[1])))\n",
    "# Convert the grid to a simple feature collection\n",
    "grid <- st_sf(grid)\n",
    "\n",
    "# get grid level assemblages for palms and mammals\n",
    "\n",
    "palm_grids <- readRDS(\"00_Data/00_species_distribution/gridded_palm_data.RDS\")\n",
    "mammal_grids <- readRDS(\"00_Data/00_species_distribution/gridded_mammal_data.RDS\")\n"
   ],
   "id": "425c7d65-cd99-44b0-bf46-f4f50769a2ac"
  },
  {
   "cell_type": "markdown",
   "metadata": {},
   "source": [
    "# Species traits data"
   ],
   "id": "9f949cc3-e154-4a10-97ea-1b48ddb69210"
  },
  {
   "cell_type": "code",
   "execution_count": null,
   "metadata": {},
   "outputs": [],
   "source": [
    "# get trait data for the Neotropics \n",
    "\n",
    "palm_traits <- read.csv('00_Data/01_species_traits/final_palm_trait.csv')\n",
    "mammal_traits <- read.csv('00_Data/01_species_traits/final_mammal_trait.csv')\n"
   ],
   "id": "84e9f9ad-6b77-470c-bb9d-c8e12c1ed272"
  },
  {
   "cell_type": "markdown",
   "metadata": {},
   "source": [
    "# Species interaction data"
   ],
   "id": "7fd73ded-e1fa-40b5-b47f-740a5a7aa58b"
  },
  {
   "cell_type": "code",
   "execution_count": null,
   "metadata": {},
   "outputs": [],
   "source": [
    "# get available interaction data for the Neotropics \n",
    "\n",
    "int_data <- readRDS('00_Data/02_species_interactions/final_int_data.RDS')\n",
    "palm_trait_data <- palm_trait_data[complete.cases(palm_trait_data),]\n",
    "mammal_trait_data <- mammal_trait_data[complete.cases(mammal_trait_data),]\n",
    "\n",
    "# filter to match species between databasees\n",
    "int_data <- int_data %>% \n",
    "  filter(int_data$PALM %in% palm_trait_data$SpecName,\n",
    "         int_data$FRUGIVORE %in% mammal_trait_data$Scientific)\n",
    "\n",
    "# make binary matrix\n",
    "\n",
    "N <- int_data %>% \n",
    "  xtabs(~PALM + FRUGIVORE, .)\n",
    "\n",
    "N[N>1] <- 1\n"
   ],
   "id": "e5736334-3bc0-4769-9cfb-9dcfbc9c531b"
  },
  {
   "cell_type": "markdown",
   "metadata": {},
   "source": [
    "Filtering species trait data for which we have also interaction records"
   ],
   "id": "ab4cc1ab-c7a5-4ff2-857f-9ec6d19931fb"
  },
  {
   "cell_type": "code",
   "execution_count": null,
   "metadata": {},
   "outputs": [],
   "source": [
    "palm_trait_data <- palm_trait_data %>% \n",
    "  filter(palm_trait_data$SpecName %in% int_data$PALM )\n",
    "\n",
    "\n",
    "mammal_trait_data <- mammal_trait_data %>% \n",
    "  filter(mammal_trait_data$Scientific %in% int_data$FRUGIVORE )\n"
   ],
   "id": "faf466de-c560-4c9b-8152-f4006937b3b6"
  },
  {
   "cell_type": "markdown",
   "metadata": {},
   "source": [
    "Observe data imbalance"
   ],
   "id": "2def97ec-6a4c-4c84-a268-82381b23a06d"
  },
  {
   "cell_type": "code",
   "execution_count": null,
   "metadata": {},
   "outputs": [],
   "source": [
    "c(\n",
    "  'traits palms' = palm_trait_data$SpecName %>% unique() %>% length(),\n",
    "  'traits mammals' = mammal_trait_data$Scientific %>% unique() %>% length(),\n",
    "  'interaction palms' = int_data$PALM %>% unique() %>% length(),\n",
    "  'interaction mammals' = int_data$FRUGIVORE %>% unique() %>% length()\n",
    ") %>% barplot(log = 'y',\n",
    "              ylab = 'log (species count)',\n",
    "              col = c('green', 'firebrick', 'green', 'firebrick'))\n"
   ],
   "id": "e3d5dd46-df4f-42a6-8622-e9032c315605"
  }
 ],
 "nbformat": 4,
 "nbformat_minor": 5,
 "metadata": {}
}
