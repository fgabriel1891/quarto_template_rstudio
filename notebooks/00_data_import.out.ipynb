{
 "cells": [
  {
   "cell_type": "markdown",
   "metadata": {},
   "source": [
    "# Importing Data\n",
    "\n",
    "# Dependencies"
   ],
   "id": "2b5a86ea-fa81-4aa1-abcd-74e4e5dac63e"
  },
  {
   "cell_type": "code",
   "execution_count": null,
   "metadata": {},
   "outputs": [],
   "source": [
    "library(tidyverse) # for data manipulation \n",
    "library(sf) # for simple feature manipulation \n",
    "library(vegan) # ecological analyses \n",
    "library(cassandRa) # latent network analyses \n"
   ],
   "id": "bda3f902-85f5-421e-829d-c253b2326dbb"
  },
  {
   "cell_type": "markdown",
   "metadata": {},
   "source": [
    "# Species distribution data"
   ],
   "id": "a16d4db8-316f-4a48-b993-45f78f305950"
  },
  {
   "cell_type": "code",
   "execution_count": null,
   "metadata": {},
   "outputs": [],
   "source": [
    "# load data directory\n",
    "palm_all_files <- list.files(\"00_Data/00_species_distribution/Palm-distribution-ranges/Shapefiles/\", full.names = T)\n",
    "# get  shp files\n",
    "palm_shp_files <- palm_all_files[str_detect(palm_all_files, \".shp\")]\n",
    "# filter xml out\n",
    "palm_shp_files <- palm_shp_files[!str_detect(palm_shp_files, \".xml\")]\n",
    "\n",
    "# get map of biogeographic dominions on the Neotropics \n",
    "\n",
    "neotropics <- st_read('00_Data/03_Landscape/Morrone_Neotropics/Lowenberg_Neto_2014.shp')\n",
    "\n",
    "grid <- st_make_grid(neotropics, cellsize = c(1, 1), what = \"polygons\", \n",
    "                     crs = sf::st_crs(st_read(palm_shp_files[1])))\n",
    "# Convert the grid to a simple feature collection\n",
    "grid <- st_sf(grid)\n",
    "\n",
    "# get grid level assemblages for palms and mammals\n",
    "\n",
    "palm_grids <- readRDS(\"00_Data/00_species_distribution/gridded_palm_data.RDS\")\n",
    "mammal_grids <- readRDS(\"00_Data/00_species_distribution/gridded_mammal_data.RDS\")\n"
   ],
   "id": "af432b9d-679b-4a98-82c3-d8ab795dc7ec"
  },
  {
   "cell_type": "markdown",
   "metadata": {},
   "source": [
    "# Species traits data"
   ],
   "id": "e0d9ad5f-2ce9-4a89-a481-639bcdc8677a"
  },
  {
   "cell_type": "code",
   "execution_count": null,
   "metadata": {},
   "outputs": [],
   "source": [
    "# get trait data for the Neotropics \n",
    "\n",
    "palm_traits <- read.csv('00_Data/01_species_traits/final_palm_trait.csv')\n",
    "mammal_traits <- read.csv('00_Data/01_species_traits/final_mammal_trait.csv')\n"
   ],
   "id": "93bfac37-3f70-432e-8530-c6553068b7db"
  },
  {
   "cell_type": "markdown",
   "metadata": {},
   "source": [
    "# Species interaction data"
   ],
   "id": "255a63a1-fa20-4b5a-8537-4ce95dce5f63"
  },
  {
   "cell_type": "code",
   "execution_count": null,
   "metadata": {},
   "outputs": [],
   "source": [
    "# get available interaction data for the Neotropics \n",
    "\n",
    "int_data <- readRDS('00_Data/02_species_interactions/final_int_data.RDS')\n",
    "palm_trait_data <- palm_trait_data[complete.cases(palm_trait_data),]\n",
    "mammal_trait_data <- mammal_trait_data[complete.cases(mammal_trait_data),]\n",
    "\n",
    "# filter to match species between databasees\n",
    "int_data <- int_data %>% \n",
    "  filter(int_data$PALM %in% palm_trait_data$SpecName,\n",
    "         int_data$FRUGIVORE %in% mammal_trait_data$Scientific)\n",
    "\n",
    "# make binary matrix\n",
    "\n",
    "N <- int_data %>% \n",
    "  xtabs(~PALM + FRUGIVORE, .)\n",
    "\n",
    "N[N>1] <- 1\n"
   ],
   "id": "113af12b-b5ae-4b03-8f10-d299723bfdd5"
  },
  {
   "cell_type": "markdown",
   "metadata": {},
   "source": [
    "Filtering species trait data for which we have also interaction records"
   ],
   "id": "6b25f2b5-e921-4440-b01c-aaabf55f4fe2"
  },
  {
   "cell_type": "code",
   "execution_count": null,
   "metadata": {},
   "outputs": [],
   "source": [
    "palm_trait_data <- palm_trait_data %>% \n",
    "  filter(palm_trait_data$SpecName %in% int_data$PALM )\n",
    "\n",
    "\n",
    "mammal_trait_data <- mammal_trait_data %>% \n",
    "  filter(mammal_trait_data$Scientific %in% int_data$FRUGIVORE )\n"
   ],
   "id": "699e4987-7b2b-4b75-8c26-23c189c58392"
  },
  {
   "cell_type": "markdown",
   "metadata": {},
   "source": [
    "Observe data imbalance"
   ],
   "id": "36271c6b-d7f2-43e3-aeb5-b0a748a3eac4"
  },
  {
   "cell_type": "code",
   "execution_count": null,
   "metadata": {},
   "outputs": [],
   "source": [
    "c(\n",
    "  'traits palms' = palm_trait_data$SpecName %>% unique() %>% length(),\n",
    "  'traits mammals' = mammal_trait_data$Scientific %>% unique() %>% length(),\n",
    "  'interaction palms' = int_data$PALM %>% unique() %>% length(),\n",
    "  'interaction mammals' = int_data$FRUGIVORE %>% unique() %>% length()\n",
    ") %>% barplot(log = 'y',\n",
    "              ylab = 'log (species count)',\n",
    "              col = c('green', 'firebrick', 'green', 'firebrick'))\n"
   ],
   "id": "a1f1b4b0-19e8-4cb8-990e-058fff88dc95"
  }
 ],
 "nbformat": 4,
 "nbformat_minor": 5,
 "metadata": {}
}
